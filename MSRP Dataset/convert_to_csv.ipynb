{
 "cells": [
  {
   "cell_type": "code",
   "execution_count": 2,
   "id": "431529c7-bf66-4512-98f1-c21947d4b37c",
   "metadata": {},
   "outputs": [
    {
     "name": "stdout",
     "output_type": "stream",
     "text": [
      "Conversion complete. CSV file saved as 'msr_paraphrase_data.csv'.\n"
     ]
    }
   ],
   "source": [
    "import csv\n",
    "\n",
    "# Read the data from the text file\n",
    "input_file = 'msr_paraphrase_data.txt'\n",
    "output_file = 'msr_paraphrase_data.csv'\n",
    "\n",
    "with open(input_file, 'r', encoding='utf-8') as infile, open(output_file, 'w', encoding='utf-8', newline='') as outfile:\n",
    "    reader = csv.reader(infile, delimiter='\\t')\n",
    "    writer = csv.writer(outfile)\n",
    "    \n",
    "    # Write each row from the input file to the CSV file\n",
    "    for row in reader:\n",
    "        writer.writerow(row)\n",
    "\n",
    "print(\"Conversion complete. CSV file saved as 'msr_paraphrase_data.csv'.\")\n"
   ]
  },
  {
   "cell_type": "code",
   "execution_count": 3,
   "id": "a065b68b-a1fc-4cfa-90bc-52884ea5cb44",
   "metadata": {},
   "outputs": [
    {
     "name": "stdout",
     "output_type": "stream",
     "text": [
      "Conversion complete. CSV file saved as 'msr_paraphrase_data.csv'.\n"
     ]
    }
   ],
   "source": [
    "input_file = 'msr_paraphrase_test.txt'\n",
    "output_file = 'msr_paraphrase_test.csv'\n",
    "\n",
    "with open(input_file, 'r', encoding='utf-8') as infile, open(output_file, 'w', encoding='utf-8', newline='') as outfile:\n",
    "    reader = csv.reader(infile, delimiter='\\t')\n",
    "    writer = csv.writer(outfile)\n",
    "    \n",
    "    # Write each row from the input file to the CSV file\n",
    "    for row in reader:\n",
    "        writer.writerow(row)\n",
    "\n",
    "print(\"Conversion complete. CSV file saved as 'msr_paraphrase_data.csv'.\")"
   ]
  },
  {
   "cell_type": "code",
   "execution_count": 4,
   "id": "51309663-eaad-4743-b492-7a0a5576c73f",
   "metadata": {},
   "outputs": [
    {
     "name": "stdout",
     "output_type": "stream",
     "text": [
      "Conversion complete. CSV file saved as 'msr_paraphrase_data.csv'.\n"
     ]
    }
   ],
   "source": [
    "input_file = 'msr_paraphrase_train.txt'\n",
    "output_file = 'msr_paraphrase_train.csv'\n",
    "\n",
    "with open(input_file, 'r', encoding='utf-8') as infile, open(output_file, 'w', encoding='utf-8', newline='') as outfile:\n",
    "    reader = csv.reader(infile, delimiter='\\t')\n",
    "    writer = csv.writer(outfile)\n",
    "    \n",
    "    # Write each row from the input file to the CSV file\n",
    "    for row in reader:\n",
    "        writer.writerow(row)\n",
    "\n",
    "print(\"Conversion complete. CSV file saved as 'msr_paraphrase_data.csv'.\")"
   ]
  },
  {
   "cell_type": "code",
   "execution_count": null,
   "id": "97a2613c-fc3e-43ff-a25c-ab0cff19d317",
   "metadata": {},
   "outputs": [],
   "source": []
  }
 ],
 "metadata": {
  "kernelspec": {
   "display_name": "Python 3 (ipykernel)",
   "language": "python",
   "name": "python3"
  },
  "language_info": {
   "codemirror_mode": {
    "name": "ipython",
    "version": 3
   },
   "file_extension": ".py",
   "mimetype": "text/x-python",
   "name": "python",
   "nbconvert_exporter": "python",
   "pygments_lexer": "ipython3",
   "version": "3.11.7"
  }
 },
 "nbformat": 4,
 "nbformat_minor": 5
}
