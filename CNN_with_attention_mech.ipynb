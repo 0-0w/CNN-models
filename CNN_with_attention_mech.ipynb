{
 "cells": [
  {
   "cell_type": "code",
   "execution_count": 75,
   "id": "d9a237b8-c405-46b3-9cce-592a9f4ef8d2",
   "metadata": {},
   "outputs": [],
   "source": [
    "import pandas as pd\n",
    "import numpy as np\n",
    "import time\n",
    "import tensorflow as tf\n",
    "import matplotlib.pyplot as plt\n",
    "from tensorflow.keras.preprocessing.text import Tokenizer\n",
    "from tensorflow.keras.preprocessing.sequence import pad_sequences\n",
    "from tensorflow.keras.layers import Input, Embedding, Conv1D, Dense, Multiply, Concatenate, GlobalMaxPooling1D\n",
    "from tensorflow.keras.models import Model\n",
    "from sklearn.model_selection import train_test_split\n",
    "from gensim.models import KeyedVectors\n",
    "from sklearn.metrics import accuracy_score\n",
    "from gensim.models import Word2Vec\n",
    "from fireflyalgorithm import FireflyAlgorithm\n",
    "from keras.layers import LSTM, Attention\n",
    "from keras.optimizers import Adam"
   ]
  },
  {
   "cell_type": "code",
   "execution_count": 76,
   "id": "f7f95e3e-26ac-4623-9416-decdfb51419e",
   "metadata": {},
   "outputs": [
    {
     "name": "stdout",
     "output_type": "stream",
     "text": [
      "Tokenizer vocabulary size: 13678\n",
      "Embedding matrix shape: (13679, 300)\n",
      "X_train1 shape: (3150, 20), X_train2 shape: (3150, 20), y_train shape: (3150,)\n"
     ]
    }
   ],
   "source": [
    "# Load MSRP data\n",
    "data = pd.read_csv('msr_paraphrase_train.csv', on_bad_lines='skip')\n",
    "sentences1 = data['#1 String'].fillna(\"\").astype(str).values\n",
    "sentences2 = data['#2 String'].fillna(\"\").astype(str).values\n",
    "labels = data['Quality'].values\n",
    "\n",
    "# Tokenize sentences\n",
    "tokenizer = Tokenizer()\n",
    "tokenizer.fit_on_texts(list(sentences1) + list(sentences2))\n",
    "sequences1 = tokenizer.texts_to_sequences(sentences1)\n",
    "sequences2 = tokenizer.texts_to_sequences(sentences2)\n",
    "max_len = 20\n",
    "padded_sequences1 = pad_sequences(sequences1, maxlen=max_len, padding='post')\n",
    "padded_sequences2 = pad_sequences(sequences2, maxlen=max_len, padding='post')\n",
    "\n",
    "# Split into train and test sets\n",
    "X_train1, X_test1, X_train2, X_test2, y_train, y_test = train_test_split(\n",
    "    padded_sequences1, padded_sequences2, labels, test_size=0.2, random_state=42\n",
    ")\n",
    "\n",
    "# Load Word2Vec embeddings\n",
    "word2vec = KeyedVectors.load_word2vec_format('GoogleNews-vectors-negative300.bin', binary=True)\n",
    "# word2vec = api.load(\"word2vec-google-news-300\")\n",
    "embedding_dim = word2vec.vector_size\n",
    "embedding_matrix = np.zeros((len(tokenizer.word_index) + 1, embedding_dim))\n",
    "for word, i in tokenizer.word_index.items():\n",
    "    if word in word2vec:\n",
    "        embedding_matrix[i] = word2vec[word]\n",
    "\n",
    "print(f\"Tokenizer vocabulary size: {len(tokenizer.word_index)}\")\n",
    "print(f\"Embedding matrix shape: {embedding_matrix.shape}\")\n",
    "print(f\"X_train1 shape: {X_train1.shape}, X_train2 shape: {X_train2.shape}, y_train shape: {y_train.shape}\")"
   ]
  },
  {
   "cell_type": "code",
   "execution_count": 88,
   "id": "fd488a21-883e-431e-8f8b-eb9155ac4d5e",
   "metadata": {},
   "outputs": [],
   "source": [
    "# Firefly algorithm parameters\n",
    "population_size = 10\n",
    "max_generations = 10\n",
    "gamma = 1.0  # Light absorption coefficient\n",
    "alpha = 0.5  # Step size factor for randomness\n",
    "beta_base = 1.0  # Base attractiveness\n",
    "\n",
    "# Define the CNN model with hybrid attention mechanism (LSTM + Attention)\n",
    "def build_model(max_len, embedding_matrix):\n",
    "    input_1 = Input(shape=(max_len,))\n",
    "    input_2 = Input(shape=(max_len,))\n",
    "    \n",
    "    # Embedding Layer\n",
    "    embedding_layer = Embedding(input_dim=embedding_matrix.shape[0],\n",
    "                                output_dim=embedding_matrix.shape[1],\n",
    "                                weights=[embedding_matrix],\n",
    "                                input_length=max_len,\n",
    "                                trainable=False)\n",
    "    \n",
    "    embedded_1 = embedding_layer(input_1)\n",
    "    embedded_2 = embedding_layer(input_2)\n",
    "    \n",
    "    # LSTM Layer\n",
    "    lstm_layer = LSTM(128, return_sequences=True)\n",
    "    lstm_1 = lstm_layer(embedded_1)\n",
    "    lstm_2 = lstm_layer(embedded_2)\n",
    "    \n",
    "    # Attention Layer\n",
    "    attention_layer = Attention()\n",
    "    attention_output_1 = attention_layer([lstm_1, lstm_1])  # Self-attention\n",
    "    attention_output_2 = attention_layer([lstm_2, lstm_2])  # Self-attention\n",
    "    \n",
    "    # Weighted sum of attention outputs\n",
    "    attended_1 = Multiply()([lstm_1, attention_output_1])\n",
    "    attended_2 = Multiply()([lstm_2, attention_output_2])\n",
    "    \n",
    "    # Global Max Pooling\n",
    "    pooled_1 = GlobalMaxPooling1D()(attended_1)\n",
    "    pooled_2 = GlobalMaxPooling1D()(attended_2)\n",
    "    \n",
    "    # Concatenate and Dense Layer\n",
    "    concatenated = Concatenate()([pooled_1, pooled_2])\n",
    "    dense_1 = Dense(64, activation='relu')(concatenated)\n",
    "    similarity_score = Dense(1, activation='sigmoid')(dense_1)\n",
    "    \n",
    "    model = Model(inputs=[input_1, input_2], outputs=similarity_score)\n",
    "    return model\n",
    "\n",
    "def compute_text_quality(y_true, y_pred):\n",
    "    y_pred_classes = np.round(y_pred).astype(int)  # Convert predictions to binary\n",
    "    return accuracy_score(y_true, y_pred_classes)\n",
    "\n",
    "def compute_frame_rate(model, input_data):\n",
    "    start_time = time.time()\n",
    "    _ = model.predict(input_data, batch_size=32)  # Adjust batch size as needed\n",
    "    end_time = time.time()\n",
    "    elapsed_time = end_time - start_time\n",
    "    return len(input_data[0]) / elapsed_time  # Assuming input_data[0] is a batch\n",
    "\n",
    "metrics_log = {\n",
    "    'iterations': [],\n",
    "    'text_quality': [],\n",
    "    'frame_rate': [],\n",
    "    'Counter_text': []\n",
    "}\n",
    "\n",
    "# Generate initial population of models (fireflies)\n",
    "def initialize_population(population_size, max_len, embedding_matrix):\n",
    "    population = []\n",
    "    for _ in range(population_size):\n",
    "        model = build_model(max_len, embedding_matrix)\n",
    "        population.append(model)\n",
    "    return population\n",
    "\n",
    "# Evaluate the fitness of each model in the population\n",
    "def evaluate_population(population, X_train1, X_train2, y_train):\n",
    "    fitness = []\n",
    "    for i, model in enumerate(population):\n",
    "        model.compile(optimizer=Adam(), loss='binary_crossentropy', metrics=['accuracy'])\n",
    "        history = model.fit([X_train1, X_train2], y_train, batch_size=32, epochs=1, verbose=0)\n",
    "        loss = history.history['loss'][-1]  # Take last loss value\n",
    "        fitness.append(loss)\n",
    "        \n",
    "        y_pred = model.predict([X_train1, X_train2])\n",
    "        text_quality = compute_text_quality(y_train, y_pred)\n",
    "        frame_rate = compute_frame_rate(model, [X_train1, X_train2])\n",
    "        \n",
    "        # Log metrics\n",
    "        metrics_log['iterations'].append(i + 1)\n",
    "        metrics_log['text_quality'].append(text_quality)\n",
    "        metrics_log['Counter_text'].append(text_quality)\n",
    "        metrics_log['frame_rate'].append(frame_rate)\n",
    "        print(f\"Iteration {i + 1}: Text Quality = {text_quality:.4f}, Frame Rate = {frame_rate:.2f} fps\")\n",
    "    return fitness\n",
    "\n",
    "# Firefly optimization algorithm\n",
    "# Assuming your FireflyAlgorithm accepts seed and other parameters\n",
    "def firefly_optimization(population, X_train1, X_train2, y_train, max_generations, beta_base, gamma, alpha):\n",
    "    firefly_algorithm = FireflyAlgorithm(population_size, gamma, alpha, beta_base, seed=42)  # Using an integer seed\n",
    "    for generation in range(1):\n",
    "        # for generation in range(5):\n",
    "        fitness = evaluate_population(population, X_train1, X_train2, y_train)  # Evaluate fitness\n",
    "        # Firefly algorithm's specific operations\n",
    "        for i in range(len(population)):\n",
    "            for j in range(len(population)):\n",
    "                if fitness[j] < fitness[i]:  # If firefly j is more attractive\n",
    "                    distance = np.linalg.norm(fitness[i] - fitness[j])\n",
    "                    move_firefly(population[i], population[j], beta_base, gamma, distance, alpha)\n",
    "            \n",
    "        # Output the results\n",
    "        print(f\"Generation {generation+1}/{max_generations}, Best Loss: {min(fitness)}\")\n",
    "    best_index = np.argmin(fitness)\n",
    "    return population[best_index]\n"
   ]
  },
  {
   "cell_type": "code",
   "execution_count": 89,
   "id": "e395c244-010f-43a9-b1f3-8aeffcbce66d",
   "metadata": {},
   "outputs": [
    {
     "name": "stdout",
     "output_type": "stream",
     "text": [
      "(3150, 20)\n",
      "(3150, 20)\n",
      "(3150,)\n"
     ]
    }
   ],
   "source": [
    "print(X_train1.shape)  # Should output something like (3150, ...)\n",
    "print(X_train2.shape)  # Should output something like (3150, ...)\n",
    "print(y_train.shape)   # Should output (3150,) or (3150, 1)"
   ]
  },
  {
   "cell_type": "code",
   "execution_count": 90,
   "id": "c7e2de89-e19f-4e63-8b42-63aef39b4db0",
   "metadata": {},
   "outputs": [
    {
     "name": "stderr",
     "output_type": "stream",
     "text": [
      "C:\\Users\\Laxman\\AppData\\Roaming\\Python\\Python311\\site-packages\\keras\\src\\layers\\core\\embedding.py:90: UserWarning: Argument `input_length` is deprecated. Just remove it.\n",
      "  warnings.warn(\n",
      "C:\\Users\\Laxman\\AppData\\Roaming\\Python\\Python311\\site-packages\\keras\\src\\models\\functional.py:225: UserWarning: The structure of `inputs` doesn't match the expected structure: ['keras_tensor_1716', 'keras_tensor_1717']. Received: the structure of inputs=('*', '*')\n",
      "  warnings.warn(\n"
     ]
    },
    {
     "name": "stdout",
     "output_type": "stream",
     "text": [
      "\u001b[1m99/99\u001b[0m \u001b[32m━━━━━━━━━━━━━━━━━━━━\u001b[0m\u001b[37m\u001b[0m \u001b[1m2s\u001b[0m 16ms/step\n",
      "\u001b[1m99/99\u001b[0m \u001b[32m━━━━━━━━━━━━━━━━━━━━\u001b[0m\u001b[37m\u001b[0m \u001b[1m1s\u001b[0m 11ms/step\n",
      "Iteration 1: Text Quality = 0.6832, Frame Rate = 2574.85 fps\n"
     ]
    },
    {
     "name": "stderr",
     "output_type": "stream",
     "text": [
      "C:\\Users\\Laxman\\AppData\\Roaming\\Python\\Python311\\site-packages\\keras\\src\\models\\functional.py:225: UserWarning: The structure of `inputs` doesn't match the expected structure: ['keras_tensor_1731', 'keras_tensor_1732']. Received: the structure of inputs=('*', '*')\n",
      "  warnings.warn(\n"
     ]
    },
    {
     "name": "stdout",
     "output_type": "stream",
     "text": [
      "\u001b[1m99/99\u001b[0m \u001b[32m━━━━━━━━━━━━━━━━━━━━\u001b[0m\u001b[37m\u001b[0m \u001b[1m2s\u001b[0m 15ms/step\n",
      "\u001b[1m99/99\u001b[0m \u001b[32m━━━━━━━━━━━━━━━━━━━━\u001b[0m\u001b[37m\u001b[0m \u001b[1m1s\u001b[0m 10ms/step\n",
      "Iteration 2: Text Quality = 0.7041, Frame Rate = 2667.94 fps\n"
     ]
    },
    {
     "name": "stderr",
     "output_type": "stream",
     "text": [
      "C:\\Users\\Laxman\\AppData\\Roaming\\Python\\Python311\\site-packages\\keras\\src\\models\\functional.py:225: UserWarning: The structure of `inputs` doesn't match the expected structure: ['keras_tensor_1746', 'keras_tensor_1747']. Received: the structure of inputs=('*', '*')\n",
      "  warnings.warn(\n"
     ]
    },
    {
     "name": "stdout",
     "output_type": "stream",
     "text": [
      "\u001b[1m99/99\u001b[0m \u001b[32m━━━━━━━━━━━━━━━━━━━━\u001b[0m\u001b[37m\u001b[0m \u001b[1m2s\u001b[0m 15ms/step\n",
      "\u001b[1m99/99\u001b[0m \u001b[32m━━━━━━━━━━━━━━━━━━━━\u001b[0m\u001b[37m\u001b[0m \u001b[1m1s\u001b[0m 11ms/step\n",
      "Iteration 3: Text Quality = 0.7029, Frame Rate = 2657.04 fps\n"
     ]
    },
    {
     "name": "stderr",
     "output_type": "stream",
     "text": [
      "C:\\Users\\Laxman\\AppData\\Roaming\\Python\\Python311\\site-packages\\keras\\src\\models\\functional.py:225: UserWarning: The structure of `inputs` doesn't match the expected structure: ['keras_tensor_1761', 'keras_tensor_1762']. Received: the structure of inputs=('*', '*')\n",
      "  warnings.warn(\n"
     ]
    },
    {
     "name": "stdout",
     "output_type": "stream",
     "text": [
      "\u001b[1m99/99\u001b[0m \u001b[32m━━━━━━━━━━━━━━━━━━━━\u001b[0m\u001b[37m\u001b[0m \u001b[1m2s\u001b[0m 14ms/step\n",
      "\u001b[1m99/99\u001b[0m \u001b[32m━━━━━━━━━━━━━━━━━━━━\u001b[0m\u001b[37m\u001b[0m \u001b[1m1s\u001b[0m 10ms/step\n",
      "Iteration 4: Text Quality = 0.6832, Frame Rate = 2805.34 fps\n"
     ]
    },
    {
     "name": "stderr",
     "output_type": "stream",
     "text": [
      "C:\\Users\\Laxman\\AppData\\Roaming\\Python\\Python311\\site-packages\\keras\\src\\models\\functional.py:225: UserWarning: The structure of `inputs` doesn't match the expected structure: ['keras_tensor_1776', 'keras_tensor_1777']. Received: the structure of inputs=('*', '*')\n",
      "  warnings.warn(\n"
     ]
    },
    {
     "name": "stdout",
     "output_type": "stream",
     "text": [
      "\u001b[1m99/99\u001b[0m \u001b[32m━━━━━━━━━━━━━━━━━━━━\u001b[0m\u001b[37m\u001b[0m \u001b[1m2s\u001b[0m 15ms/step\n",
      "\u001b[1m99/99\u001b[0m \u001b[32m━━━━━━━━━━━━━━━━━━━━\u001b[0m\u001b[37m\u001b[0m \u001b[1m1s\u001b[0m 11ms/step\n",
      "Iteration 5: Text Quality = 0.6952, Frame Rate = 2536.67 fps\n"
     ]
    },
    {
     "name": "stderr",
     "output_type": "stream",
     "text": [
      "C:\\Users\\Laxman\\AppData\\Roaming\\Python\\Python311\\site-packages\\keras\\src\\models\\functional.py:225: UserWarning: The structure of `inputs` doesn't match the expected structure: ['keras_tensor_1791', 'keras_tensor_1792']. Received: the structure of inputs=('*', '*')\n",
      "  warnings.warn(\n"
     ]
    },
    {
     "name": "stdout",
     "output_type": "stream",
     "text": [
      "\u001b[1m99/99\u001b[0m \u001b[32m━━━━━━━━━━━━━━━━━━━━\u001b[0m\u001b[37m\u001b[0m \u001b[1m2s\u001b[0m 13ms/step\n",
      "\u001b[1m99/99\u001b[0m \u001b[32m━━━━━━━━━━━━━━━━━━━━\u001b[0m\u001b[37m\u001b[0m \u001b[1m1s\u001b[0m 11ms/step\n",
      "Iteration 6: Text Quality = 0.6889, Frame Rate = 2704.00 fps\n"
     ]
    },
    {
     "name": "stderr",
     "output_type": "stream",
     "text": [
      "C:\\Users\\Laxman\\AppData\\Roaming\\Python\\Python311\\site-packages\\keras\\src\\models\\functional.py:225: UserWarning: The structure of `inputs` doesn't match the expected structure: ['keras_tensor_1806', 'keras_tensor_1807']. Received: the structure of inputs=('*', '*')\n",
      "  warnings.warn(\n"
     ]
    },
    {
     "name": "stdout",
     "output_type": "stream",
     "text": [
      "\u001b[1m99/99\u001b[0m \u001b[32m━━━━━━━━━━━━━━━━━━━━\u001b[0m\u001b[37m\u001b[0m \u001b[1m2s\u001b[0m 13ms/step\n",
      "\u001b[1m99/99\u001b[0m \u001b[32m━━━━━━━━━━━━━━━━━━━━\u001b[0m\u001b[37m\u001b[0m \u001b[1m1s\u001b[0m 10ms/step\n",
      "Iteration 7: Text Quality = 0.6917, Frame Rate = 2972.51 fps\n"
     ]
    },
    {
     "name": "stderr",
     "output_type": "stream",
     "text": [
      "C:\\Users\\Laxman\\AppData\\Roaming\\Python\\Python311\\site-packages\\keras\\src\\models\\functional.py:225: UserWarning: The structure of `inputs` doesn't match the expected structure: ['keras_tensor_1821', 'keras_tensor_1822']. Received: the structure of inputs=('*', '*')\n",
      "  warnings.warn(\n"
     ]
    },
    {
     "name": "stdout",
     "output_type": "stream",
     "text": [
      "\u001b[1m99/99\u001b[0m \u001b[32m━━━━━━━━━━━━━━━━━━━━\u001b[0m\u001b[37m\u001b[0m \u001b[1m2s\u001b[0m 13ms/step\n",
      "\u001b[1m99/99\u001b[0m \u001b[32m━━━━━━━━━━━━━━━━━━━━\u001b[0m\u001b[37m\u001b[0m \u001b[1m1s\u001b[0m 11ms/step\n",
      "Iteration 8: Text Quality = 0.6832, Frame Rate = 2625.14 fps\n"
     ]
    },
    {
     "name": "stderr",
     "output_type": "stream",
     "text": [
      "C:\\Users\\Laxman\\AppData\\Roaming\\Python\\Python311\\site-packages\\keras\\src\\models\\functional.py:225: UserWarning: The structure of `inputs` doesn't match the expected structure: ['keras_tensor_1836', 'keras_tensor_1837']. Received: the structure of inputs=('*', '*')\n",
      "  warnings.warn(\n"
     ]
    },
    {
     "name": "stdout",
     "output_type": "stream",
     "text": [
      "\u001b[1m99/99\u001b[0m \u001b[32m━━━━━━━━━━━━━━━━━━━━\u001b[0m\u001b[37m\u001b[0m \u001b[1m2s\u001b[0m 13ms/step\n",
      "\u001b[1m99/99\u001b[0m \u001b[32m━━━━━━━━━━━━━━━━━━━━\u001b[0m\u001b[37m\u001b[0m \u001b[1m1s\u001b[0m 9ms/step\n",
      "Iteration 9: Text Quality = 0.6914, Frame Rate = 3024.92 fps\n"
     ]
    },
    {
     "name": "stderr",
     "output_type": "stream",
     "text": [
      "C:\\Users\\Laxman\\AppData\\Roaming\\Python\\Python311\\site-packages\\keras\\src\\models\\functional.py:225: UserWarning: The structure of `inputs` doesn't match the expected structure: ['keras_tensor_1851', 'keras_tensor_1852']. Received: the structure of inputs=('*', '*')\n",
      "  warnings.warn(\n"
     ]
    },
    {
     "name": "stdout",
     "output_type": "stream",
     "text": [
      "\u001b[1m99/99\u001b[0m \u001b[32m━━━━━━━━━━━━━━━━━━━━\u001b[0m\u001b[37m\u001b[0m \u001b[1m2s\u001b[0m 14ms/step\n",
      "\u001b[1m99/99\u001b[0m \u001b[32m━━━━━━━━━━━━━━━━━━━━\u001b[0m\u001b[37m\u001b[0m \u001b[1m1s\u001b[0m 10ms/step\n",
      "Iteration 10: Text Quality = 0.6959, Frame Rate = 2829.49 fps\n",
      "Generation 1/10, Best Loss: 0.6108026504516602\n"
     ]
    },
    {
     "name": "stderr",
     "output_type": "stream",
     "text": [
      "C:\\Users\\Laxman\\AppData\\Roaming\\Python\\Python311\\site-packages\\keras\\src\\models\\functional.py:225: UserWarning: The structure of `inputs` doesn't match the expected structure: ['keras_tensor_1851', 'keras_tensor_1852']. Received: the structure of inputs=('*', '*')\n",
      "  warnings.warn(\n"
     ]
    },
    {
     "name": "stdout",
     "output_type": "stream",
     "text": [
      "\u001b[1m25/25\u001b[0m \u001b[32m━━━━━━━━━━━━━━━━━━━━\u001b[0m\u001b[37m\u001b[0m \u001b[1m1s\u001b[0m 10ms/step - accuracy: 0.6661 - loss: 0.6222\n",
      "Best Model Test Loss: 0.6249\n",
      "Best Model Test Accuracy: 0.6675\n"
     ]
    }
   ],
   "source": [
    "population = initialize_population(population_size, max_len, embedding_matrix)\n",
    "best_model = firefly_optimization(population, X_train1, X_train2, y_train, max_generations, beta_base, gamma, alpha)\n",
    "loss, accuracy = best_model.evaluate([X_test1, X_test2], y_test)\n",
    "print(f'Best Model Test Loss: {loss:.4f}')\n",
    "print(f'Best Model Test Accuracy: {accuracy:.4f}')"
   ]
  },
  {
   "cell_type": "code",
   "execution_count": 92,
   "id": "b21d93d0-8ef6-4cb9-9cfb-d2e2beca6a05",
   "metadata": {},
   "outputs": [
    {
     "data": {
      "image/png": "[encoded data removed]",
      "text/plain": [
       "<Figure size 1000x600 with 2 Axes>"
      ]
     },
     "metadata": {},
     "output_type": "display_data"
    }
   ],
   "source": [
    "# Use the metrics logged during training\n",
    "iterations = metrics_log['iterations']\n",
    "text_quality = metrics_log['text_quality']\n",
    "frame_rate = metrics_log['frame_rate']\n",
    "text_quality = [n*10 for n in text_quality]\n",
    "frame_rate = [n/100 for n in frame_rate]\n",
    "\n",
    "# Create a figure and axis\n",
    "fig, ax1 = plt.subplots(figsize=(10, 6))\n",
    "\n",
    "# Plot the bar chart for text quality\n",
    "bar_width = 0.4\n",
    "bars = ax1.bar(iterations, text_quality, bar_width, color='blue', label='Text Quality')\n",
    "ax1.set_xlabel('Iterations')\n",
    "ax1.set_ylabel('Text Quality', color='blue')\n",
    "# ax1.tick_params(axis='y', labelcolor='blue')\n",
    "\n",
    "# Create a twin axis for the line chart\n",
    "ax2 = ax1.twinx()\n",
    "ax2.plot(iterations, frame_rate, color='red', marker='o', linestyle='-', linewidth=2, label='Frame Rate')\n",
    "\n",
    "# Add a title and legend\n",
    "fig.suptitle('Compression ratio', fontsize=16)\n",
    "fig.legend(loc='upper right')\n",
    "\n",
    "# Show the plot\n",
    "plt.tight_layout()\n",
    "plt.show()\n"
   ]
  },
  {
   "cell_type": "code",
   "execution_count": 123,
   "id": "0b81d224-bcdc-4521-b4e5-bde215dbdeb1",
   "metadata": {},
   "outputs": [
    {
     "data": {
      "image/png": "[encoded data removed]",
      "text/plain": [
       "<Figure size 800x600 with 1 Axes>"
      ]
     },
     "metadata": {},
     "output_type": "display_data"
    }
   ],
   "source": [
    "iterations = metrics_log['iterations']\n",
    "text_quality = metrics_log['text_quality']\n",
    "text_quality = [n*10 for n in text_quality]\n",
    "counter_text = metrics_log['Counter_text']\n",
    "frame_rate = [n/100 for n in frame_rate]\n",
    "\n",
    "bar_width = 0.35\n",
    "epcohs = 10\n",
    "fig, ax = plt.subplots(figsize=(8, 6))\n",
    "ax.bar(iterations, text_quality, color='blue', width=bar_width, label='Origin text')\n",
    "ax.bar(iterations, counter_text, color='red', width=bar_width, label='Counter text')\n",
    "\n",
    "ax.set_xlabel(\"Correct scale (Unit)\")\n",
    "ax.set_xticks(epochs)\n",
    "ax.set_xticklabels([str(i*50) for i in epochs])\n",
    "ax.legend(loc='upper center', bbox_to_anchor=(0.5, 1.15), ncol=2)\n",
    "\n",
    "plt.show()"
   ]
  },
  {
   "cell_type": "code",
   "execution_count": null,
   "id": "d3a86617-15a8-41bb-a045-203db358b1e7",
   "metadata": {},
   "outputs": [],
   "source": []
  }
 ],
 "metadata": {
  "kernelspec": {
   "display_name": "Python 3 (ipykernel)",
   "language": "python",
   "name": "python3"
  },
  "language_info": {
   "codemirror_mode": {
    "name": "ipython",
    "version": 3
   },
   "file_extension": ".py",
   "mimetype": "text/x-python",
   "name": "python",
   "nbconvert_exporter": "python",
   "pygments_lexer": "ipython3",
   "version": "3.11.7"
  }
 },
 "nbformat": 4,
 "nbformat_minor": 5
}
